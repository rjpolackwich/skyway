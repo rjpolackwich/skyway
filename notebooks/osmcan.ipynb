{
 "cells": [
  {
   "cell_type": "markdown",
   "metadata": {},
   "source": [
    "# Introduction to Skyway and Some Canvas Tools for Automating Training Data Creation from Canvas Data "
   ]
  },
  {
   "cell_type": "markdown",
   "metadata": {},
   "source": [
    "This notebook demonstrates some of the usages of the [skyway](https://github.com/rjpolackwich/skyway) library, both in terms of accessing/understanding/rasterizing data from canvas buckets as well as building sets of binary custom OSM-feature-labeled data by pointing the library to a canvas bucket. The skyway library can be installed via conda or pip, and requires python >= 3.7.x\n",
    "\n",
    "\n",
    "There are some additional, optional installs that this notebook uses for visualization and mapping, which can be found immediately below. These dependencies will eventually be added as optional deps to the skyway package or somewhere else to support Jupyter Notebook/ Jupyter Lab development environments."
   ]
  },
  {
   "cell_type": "code",
   "execution_count": null,
   "metadata": {},
   "outputs": [],
   "source": [
    "# pip install maxar-skyway\n",
    "# conda install -c digitalglobe skyway"
   ]
  },
  {
   "cell_type": "code",
   "execution_count": 1,
   "metadata": {},
   "outputs": [],
   "source": [
    "%matplotlib inline\n",
    "\n",
    "# Visualization dependencies\n",
    "import matplotlib.pyplot as plt\n",
    "\n",
    "from IPython.display import display\n",
    "from sidecar import Sidecar\n",
    "from ipyleaflet import (\n",
    "    Map,\n",
    "    basemaps,\n",
    "    basemap_to_tiles,\n",
    "    ImageOverlay,\n",
    "    Polyline, Rectangle, Polygon,\n",
    "    LayerGroup, GeoJSON, Marker,\n",
    "    WidgetControl, ScaleControl, LayersControl\n",
    ")\n",
    "from ipywidgets import HTML"
   ]
  },
  {
   "cell_type": "markdown",
   "metadata": {},
   "source": [
    "### First Steps: Point skyway to a Canvas Bucket\n",
    "\n",
    "The easiest way to start working with and exploring canvas data is to simply import the `CanvasCollection` object from skyway, and point it to an AWS bucket-like path where canvas data is stored. This can be a remote (AWS s3) bucket, or a directory tree on a local filesystem."
   ]
  },
  {
   "cell_type": "code",
   "execution_count": 2,
   "metadata": {},
   "outputs": [],
   "source": [
    "from skyway.canvas import CanvasCollection\n",
    "\n",
    "coll = CanvasCollection(bucket=\"/Users/jamiepolackwich1/dg/canvas-buckets/maxar-analytics-data/canvas_v2_sample\", local=True)"
   ]
  },
  {
   "cell_type": "markdown",
   "metadata": {},
   "source": [
    "The assigned variable `coll` represents a CanvasCollection instance. This is intended to provide accessors to the underlying data, as well as a general overview of the available data, where it is in the world, how much there is, etc. A few methods can be useful for understanding what you're working with."
   ]
  },
  {
   "cell_type": "code",
   "execution_count": 3,
   "metadata": {},
   "outputs": [
    {
     "name": "stdout",
     "output_type": "stream",
     "text": [
      "19\n",
      "Total data area covered: 2150000000 m^2\n",
      "Total number of quadkey zones: 86\n",
      "Total number of catalog ids tiled: 12\n",
      "\n",
      "\n",
      "42\n",
      "Total data area covered: 1800000000 m^2\n",
      "Total number of quadkey zones: 72\n",
      "Total number of catalog ids tiled: 15\n",
      "\n",
      "\n"
     ]
    }
   ],
   "source": [
    "coll.descriptions()"
   ]
  },
  {
   "cell_type": "markdown",
   "metadata": {},
   "source": [
    "the `descriptions` method tells us what UTM zones the canvas bucket contains data for, how much coverage, and the catalog IDs that make up those data tiles. To access one of these zones, we can call `.zone` to get a more specific kind of data accessor."
   ]
  },
  {
   "cell_type": "code",
   "execution_count": 4,
   "metadata": {},
   "outputs": [
    {
     "name": "stdout",
     "output_type": "stream",
     "text": [
      "<class 'skyway.canvas.CanvasZone'>\n"
     ]
    }
   ],
   "source": [
    "tz42 = coll.zone(42)\n",
    "tz19 = coll.zone(19)\n",
    "tz = tz42\n",
    "print(type(tz42))"
   ]
  },
  {
   "cell_type": "markdown",
   "metadata": {},
   "source": [
    "The above objects are useful for accessing data as well as statistics and information from the data bucket. These are instances of `skyway.CanvasZone`, and can be used to access the underlying tiling scheme used to generate the tiles in your canvas bucket. There are many useful methods on these items, and more detailed information about how they can be used can be found in the skyway documentation. A few are shown below:"
   ]
  },
  {
   "cell_type": "markdown",
   "metadata": {},
   "source": [
    "A few `CanvasZone` methods:"
   ]
  },
  {
   "cell_type": "code",
   "execution_count": 5,
   "metadata": {},
   "outputs": [
    {
     "name": "stdout",
     "output_type": "stream",
     "text": [
      "Number of Geotiles making up zone: 72\n",
      "Number of Catalog ids making up zone: 15\n"
     ]
    }
   ],
   "source": [
    "print(\"Number of Geotiles making up zone: {}\".format(tz.nqks))\n",
    "print(\"Number of Catalog ids making up zone: {}\".format(tz.ncatids))"
   ]
  },
  {
   "cell_type": "markdown",
   "metadata": {},
   "source": [
    "We can generate lists of the actual quadkeys and catalog ids that underly this UTM zone in this Canvas Bucket:"
   ]
  },
  {
   "cell_type": "code",
   "execution_count": 6,
   "metadata": {},
   "outputs": [
    {
     "name": "stdout",
     "output_type": "stream",
     "text": [
      "['120200000003', '120200000231', '120200000200', '120200000032', '120200000033', '120200000201', '120200000230', '120200000002', '120200000112', '120200000320', '120200000311', '120200000123', '031311111113', '031311111310', '120200000122', '120200000310', '120200000321', '120200000113', '031311111311', '031311111112', '031311111130', '120200000131', '120200000303', '120200002001', '031311111131', '120200000101', '120200002000', '120200000302', '120200000130', '120200000020', '120200000212', '120200000223', '120200000222', '120200000213', '120200000021', '120200000232', '120200000031', '120200000203', '120200000202', '120200000030', '120200002100', '120200000233', '031311111313', '120200002010', '120200000120', '120200000312', '031311111312', '120200000313', '120200000121', '120200002011', '120200000110', '120200000322', '120200000300', '120200000132', '120200000103', '120200000331', '031311111133', '031311111330', '120200000330', '120200000102', '120200000133', '120200000301', '031311111331', '031311111132', '120200000211', '120200000023', '120200000012', '120200000220', '120200000221', '120200000013', '120200000022', '120200000210']\n",
      "\n",
      "\n",
      "['1040010056642A00', '1040010053287E00', '10400100574F2900', '1040010055A80F00', '1040010057BDD900', '10400100572B3400', '1040010058D6EF00', '1040010052AAFF00', '104001004B7DA100', '10400100591EA600', '1040010051692400', '10400100538A1900', '104001005674ED00', '104001005438F600', '10400100511A1800']\n",
      "\n",
      "\n"
     ]
    }
   ],
   "source": [
    "print(tz.tile_quadkeys)\n",
    "print(\"\\n\")\n",
    "print(tz.tile_cogs)\n",
    "print(\"\\n\")"
   ]
  },
  {
   "cell_type": "markdown",
   "metadata": {},
   "source": [
    "The `.tiler` object on the canvas zone has helpful methods for understanding things like physical lengths, image dimensions, and corresponding zoom parameters and other relative inputs. This API is subject to change."
   ]
  },
  {
   "cell_type": "code",
   "execution_count": 7,
   "metadata": {},
   "outputs": [
    {
     "name": "stdout",
     "output_type": "stream",
     "text": [
      "Length in meters at tile zoom 15:  625.0\n",
      "Dimensions of Image at zoom level 15:  2048.0\n",
      "\n",
      "\n"
     ]
    }
   ],
   "source": [
    "print(\"Length in meters at tile zoom 15:  {}\".format(tz.tiler.tile_length_at_zoom(15)))\n",
    "print(\"Dimensions of Image at zoom level 15:  {}\".format(tz.tiler.dims_from_zoom(15)))\n",
    "print(\"\\n\")"
   ]
  },
  {
   "cell_type": "markdown",
   "metadata": {},
   "source": [
    "We can get tile objects as well:"
   ]
  },
  {
   "cell_type": "code",
   "execution_count": 8,
   "metadata": {},
   "outputs": [
    {
     "name": "stdout",
     "output_type": "stream",
     "text": [
      "120200000003\n"
     ]
    }
   ],
   "source": [
    "tile = tz.tiler.tile_from_quadkey(tz.tile_quadkeys[0])\n",
    "print(tile.quadkey)"
   ]
  },
  {
   "cell_type": "markdown",
   "metadata": {},
   "source": [
    "The tile object is effectively a wrapper around `tiletanic.base.Tile` and the tiletanic tilescheme classes, and provides methods for making Geographic transformations as well as accessing parent and child tiles and information, etc"
   ]
  },
  {
   "cell_type": "code",
   "execution_count": 9,
   "metadata": {},
   "outputs": [
    {
     "name": "stdout",
     "output_type": "stream",
     "text": [
      "CPU times: user 1.39 ms, sys: 1.12 ms, total: 2.51 ms\n",
      "Wall time: 1.48 ms\n"
     ]
    }
   ],
   "source": [
    "%%time\n",
    "#kids = containing_tiles(tz.tiler, tile, [17])\n",
    "c = tile.children()"
   ]
  },
  {
   "cell_type": "code",
   "execution_count": 10,
   "metadata": {},
   "outputs": [],
   "source": [
    "cc = c[0]"
   ]
  },
  {
   "cell_type": "code",
   "execution_count": 11,
   "metadata": {},
   "outputs": [
    {
     "data": {
      "text/plain": [
       "12"
      ]
     },
     "execution_count": 11,
     "metadata": {},
     "output_type": "execute_result"
    }
   ],
   "source": [
    "tile.zoom"
   ]
  },
  {
   "cell_type": "markdown",
   "metadata": {},
   "source": [
    "## Second Steps: Build an OSM query\n",
    "\n",
    "We can import the useful `skyway.QueryBuilder` object in order to easily build an Overpass Query Language query that we can then request over some spatial area. This can be useful to run over tiles at zoom size 12. The QueryBuilder section of the skyway package is in development and is intended to be useful for building the kinds of data insight and access patterns described elegantly in this [blog post](https://dev.overpass-api.de/blog/index.html), which provides an overview of some of the more complicated ways that the newest deployed version of the [Overpass API](https://wiki.openstreetmap.org/wiki/Overpass_API) and is authored by a core Overpass maintainer."
   ]
  },
  {
   "cell_type": "code",
   "execution_count": 12,
   "metadata": {},
   "outputs": [
    {
     "name": "stdout",
     "output_type": "stream",
     "text": [
      "[out:json][timeout:25];(node[\"railway\"=\"rail\"][5,10,15,20];);out;>;out skel qt;\n"
     ]
    }
   ],
   "source": [
    "from skyway.query import make_opql_query\n",
    "\n",
    "qs = make_opql_query([5, 10, 15, 20],\n",
    "                    elements=[\"node\", \"way\", \"relation\"],\n",
    "                    osm_tags=\"railway\",\n",
    "                    tag_vals=[\"rail\"],\n",
    "                    fmt=\"json\",\n",
    "                    timeout=25,\n",
    "                    dry_run=True)\n",
    "\n",
    "print(qs)"
   ]
  },
  {
   "cell_type": "markdown",
   "metadata": {},
   "source": [
    "More complicated query objects can be built using the `QueryBuilder` object; for instance, you can ask for multiple tags with multiple values at the same time:\n"
   ]
  },
  {
   "cell_type": "code",
   "execution_count": 33,
   "metadata": {},
   "outputs": [],
   "source": [
    "# from skyway.query import QueryBuilder\n",
    "qb = QueryBuilder()\n",
    "q = qb.from_query(osm_tags=[\"railway\"])\n",
    "q.add_matching_values([\"rail\", \"route\", \"lightrail\", \"monorail\", \"tram\"])\n",
    "qb.add_query(q)\n",
    "qb.add_aoi([...])"
   ]
  },
  {
   "cell_type": "markdown",
   "metadata": {},
   "source": [
    "We can utilize some of the patterns in the above mentioned blog to, for instance, learn about the differences in OSM feature distribution across various AOIs (todo)"
   ]
  },
  {
   "cell_type": "code",
   "execution_count": 37,
   "metadata": {},
   "outputs": [],
   "source": [
    "#from skyway.query import StatQuery\n",
    "sq = StatQuery()\n",
    "q = sq.from_query(osm_tags[\"railway\"])\n",
    "sq.add_query(q)\n",
    "sq.add_aoi([...])\n",
    "\n",
    "df = sq.get_top_100().to_DataFrame()"
   ]
  },
  {
   "cell_type": "markdown",
   "metadata": {},
   "source": [
    "The above code can tell us what the top 100 tags associated with \"railway\" are in a particular AOI. There are many other options for building useful queries, and they are explored in more depth in the skyway documentation."
   ]
  },
  {
   "cell_type": "markdown",
   "metadata": {},
   "source": [
    "## Third Step - Combine: Run a query across a Canvas AOI\n",
    "\n",
    "Because of the \"Geo\" nature of the `Tile` objects and the iterative nature of the CanvasCollection objects and their child classes, we can build a relevant OSM query object right from some input parameters; combined with a specified Canvas AOI and zoom level, (or quadkeys, etc),  we can run this query over our dataspace."
   ]
  },
  {
   "cell_type": "code",
   "execution_count": 39,
   "metadata": {},
   "outputs": [
    {
     "name": "stdout",
     "output_type": "stream",
     "text": [
      "(69.27283246333374, 34.65649964003097, 69.32757573811152, 34.70172302264596)\n",
      "(69.3273982338682, 34.656340917523536, 69.38217069663621, 34.70158849318344)\n",
      "(68.89086655512233, 34.61180050624475, 68.94546276396125, 34.65692697659191)\n",
      "(68.9454332447363, 34.611837074247234, 69.00000000000003, 34.65693918635222)\n",
      "(69.00000000000003, 34.611837074247234, 69.05456675526376, 34.65693918635222)\n",
      "(69.05453723603883, 34.61180050624475, 69.10913344487774, 34.65692697659191)\n",
      "(69.1090744065704, 34.61173955973388, 69.16370000319267, 34.65689034735906)\n",
      "(69.16361144608796, 34.61165423495451, 69.2182663645603, 34.65682929879799)\n",
      "(69.21814828908576, 34.611544532242505, 69.27283246333374, 34.656743831149136)\n",
      "(69.27268487005948, 34.61141045202966, 69.3273982338682, 34.65663394474918)\n",
      "(69.32722112350679, 34.611251994843734, 69.38196361052127, 34.65649964003097)\n",
      "(69.38175698392776, 34.611069161308436, 69.43652852765351, 34.656340917523536)\n",
      "(68.89092559342967, 34.566710331172594, 68.94549221767883, 34.611837074247234)\n",
      "(68.94546276396125, 34.5667468380097, 69.00000000000003, 34.61184926359739)\n",
      "(69.00000000000003, 34.5667468380097, 69.05453723603883, 34.61184926359739)\n",
      "(69.05450778232122, 34.566710331172594, 69.1090744065704, 34.611837074247234)\n",
      "(69.1090154992772, 34.566649486603616, 69.16361144608796, 34.61180050624475)\n",
      "(69.16352308550326, 34.5665643045421, 69.21814828908576, 34.61173955973388)\n",
      "(69.21803047563562, 34.56645478532308, 69.27268487005948, 34.61165423495451)\n",
      "(69.27253760431203, 34.56632092937735, 69.32722112350679, 34.611544532242505)\n",
      "(69.32704440617216, 34.56616273723134, 69.38175698392776, 34.61141045202966)\n",
      "(69.38155081585809, 34.56598020950729, 69.43629238582544, 34.611251994843734)\n",
      "(68.89098450072287, 34.5216198223393, 68.94552160603116, 34.5667468380097)\n",
      "(68.94549221767883, 34.52165626807586, 69.00000000000003, 34.566759006971374)\n",
      "(69.00000000000003, 34.52165626807586, 69.05450778232122, 34.566759006971374)\n",
      "(69.05447839396889, 34.5216198223393, 69.1090154992772, 34.5667468380097)\n",
      "(69.1089567227141, 34.52155907960422, 69.16352308550326, 34.566710331172594)\n",
      "(69.16343492101247, 34.52147404010935, 69.21803047563562, 34.566649486603616)\n",
      "(69.21791292364178, 34.52136470418891, 69.27253760431203, 34.5665643045421)\n",
      "(69.27239066538131, 34.521231072272656, 69.32704440617216, 34.56645478532308)\n",
      "(69.32686808101222, 34.52107314488578, 69.38155081585809, 34.56632092937735)\n",
      "(69.38134510531816, 34.520890922649, 69.43605676801486, 34.56616273723134)\n",
      "(68.89104327728596, 34.476528979942465, 68.94555092915975, 34.52165626807586)\n",
      "(68.94552160603116, 34.47656536464308, 69.00000000000003, 34.521668416670614)\n",
      "(69.00000000000003, 34.47656536464308, 69.05447839396889, 34.521668416670614)\n",
      "(69.05444907084032, 34.476528979942465, 69.1089567227141, 34.52165626807586)\n",
      "(69.10889807659801, 34.476468338933564, 69.16343492101247, 34.5216198223393)\n",
      "(69.16334695219096, 34.476383441854544, 69.21791292364178, 34.52155907960422)\n",
      "(69.21779563253806, 34.47627428903882, 69.27239066538131, 34.52147404010935)\n",
      "(69.27224405255957, 34.47614088091511, 69.32686808101222, 34.52136470418891)\n",
      "(69.32669214717775, 34.47598321800736, 69.38134510531816, 34.521231072272656)\n",
      "(69.38113985131724, 34.47580130093475, 69.43582167308566, 34.52107314488578)\n",
      "(68.89110192340206, 34.431437804180476, 68.94558018720565, 34.47656536464308)\n",
      "(68.94555092915975, 34.43147412790959, 69.00000000000003, 34.476577492892496)\n",
      "(69.00000000000003, 34.43147412790959, 69.05444907084032, 34.476577492892496)\n",
      "(69.05441981279442, 34.431437804180476, 69.10889807659801, 34.47656536464308)\n",
      "(69.10883956064679, 34.43137726479034, 69.16334695219096, 34.476528979942465)\n",
      "(69.16325917861559, 34.4312925099768, 69.21779563253806, 34.476468338933564)\n",
      "(69.21767860176021, 34.43118354007247, 69.27224405255957, 34.476383441854544)\n",
      "(69.27209776514158, 34.43105035550501, 69.32669214717775, 34.47627428903882)\n",
      "(69.32651660382244, 34.43089295679713, 69.38113985131724, 34.47614088091511)\n",
      "(69.38093505286803, 34.43071134456652, 69.4355870999056, 34.47598321800736)\n",
      "(68.89116043935329, 34.38634629525254, 68.94560938030943, 34.43147412790959)\n",
      "(68.94558018720565, 34.38638255807443, 69.00000000000003, 34.43148623583514)\n",
      "(69.00000000000003, 34.38638255807443, 69.05441981279442, 34.43148623583514)\n",
      "(69.05439061969064, 34.38634629525254, 69.10883956064679, 34.43147412790959)\n",
      "(69.1087811745793, 34.38628585737408, 69.16325917861559, 34.431437804180476)\n",
      "(69.16317159986458, 34.386201244676066, 69.21767860176021, 34.43137726479034)\n",
      "(69.217561830746, 34.38609245749033, 69.27209776514158, 34.4312925099768)\n",
      "(69.2719518024245, 34.38595949624351, 69.32651660382244, 34.43118354007247)\n",
      "(69.32634145010293, 34.38580236145703, 69.38093505286803, 34.43105035550501)\n",
      "(69.38073070898656, 34.38562105374713, 69.4353530473464, 34.43089295679713)\n",
      "(69.00000000000003, 34.341290655337495, 69.05439061969064, 34.38639464569753)\n",
      "(69.05436149138885, 34.341254453358744, 69.1087811745793, 34.38638255807443)\n",
      "(69.10872291811535, 34.34119411688515, 69.16317159986458, 34.38634629525254)\n",
      "(69.1630842155177, 34.34110964615312, 69.217561830746, 34.38628585737408)\n",
      "(69.217445318935, 34.341001041493726, 69.2719518024245, 34.386201244676066)\n",
      "(69.00000000000003, 34.29619841989949, 69.05436149138885, 34.341302722679515)\n",
      "(69.05433242774946, 34.29616227869997, 69.10872291811535, 34.341290655337495)\n",
      "(69.10866479097572, 34.2961020435247, 69.1630842155177, 34.341254453358744)\n",
      "(69.16299702515609, 34.29601771460957, 69.217445318935, 34.34119411688515)\n",
      "(69.21732906576884, 34.2959092922848, 69.27180616370785, 34.34110964615312)\n",
      "\n",
      "\n",
      "\n",
      "\n"
     ]
    }
   ],
   "source": [
    "# from skyway.transformers import WGS84Transformer\n",
    "for tile in tz:\n",
    "    with WGS84Transformer(tile) as t:\n",
    "        print(t.bounds)\n",
    "        \n",
    "print(\"\\n\\n\\n\")"
   ]
  },
  {
   "cell_type": "markdown",
   "metadata": {},
   "source": [
    "We can set our rail query using a python partial, then pass in our aoi's as kwargs to the resulting funtion - see below:"
   ]
  },
  {
   "cell_type": "code",
   "execution_count": 40,
   "metadata": {},
   "outputs": [],
   "source": [
    "rail_q = partial(make_opql_query, osm_tags=\"railway\", tag_vals=\"rail\", timeout=25, fmt=\"json\")"
   ]
  },
  {
   "cell_type": "code",
   "execution_count": 36,
   "metadata": {},
   "outputs": [
    {
     "data": {
      "text/plain": [
       "(520000.0, 3795000.0, 525000.0, 3800000.0)"
      ]
     },
     "execution_count": 36,
     "metadata": {},
     "output_type": "execute_result"
    }
   ],
   "source": [
    "for tile in tz:\n",
    "    with WGS84Transformer(tile) as t:\n",
    "        # r = rail_q(t.bounds)\n",
    "        \n",
    "        "
   ]
  },
  {
   "cell_type": "code",
   "execution_count": null,
   "metadata": {},
   "outputs": [],
   "source": [
    "\n",
    "\n",
    "\n",
    "\n",
    "\n",
    "\n",
    "\n",
    "\n",
    "\n",
    "\n",
    "\n",
    "\n",
    "\n",
    "\n",
    "\n",
    "\n",
    "\n"
   ]
  },
  {
   "cell_type": "markdown",
   "metadata": {},
   "source": [
    "### The following code is in the creative stages"
   ]
  },
  {
   "cell_type": "code",
   "execution_count": null,
   "metadata": {},
   "outputs": [],
   "source": [
    "# %%time\n",
    "# polys = []\n",
    "# fc = {\"type\": \"FeatureCollection\",\n",
    "#       \"features\": list()}\n",
    "# for gtile in tz42:\n",
    "#     with WGS84Transformer(gtile) as t:\n",
    "#         fc[\"features\"].append(to_gjson(t))\n",
    "#         polys.append(t.asShape)\n",
    "\n",
    "\n",
    "#pgons = geom.MultiPolygon(polys)\n",
    "#data = geom.mapping(pgons)\n",
    "\n",
    "# def make_ovp_query(aoicoords, tag, values=[]):\n",
    "#     q = overpass.ql_query(aoicoords, tag=tag, values=values)\n",
    "#     print(q)\n",
    "#     r = overpass.request(q)\n",
    "#     return r\n",
    "\n",
    "# query = overpass.ql_query((59.648316096391, 29.64111328125, 60.228902767513, 31.09130859375), tag='railway', values=['rail'])\n",
    "# response = overpass.request(query)\n",
    "\n",
    "\n",
    "\n",
    "# _bounds = reverse_coordorder(tile.bounds)\n",
    "# q = overpass.ql_query(_bounds, tag='highway', values=['unclassified'])# 'primary,secondary,tertiary'])\n",
    "# #q = overpass.ql_query(_bounds, tag='building', values=['yes'])\n",
    "# r = overpass.request(q)\n",
    "\n",
    "# gdf = gpd.GeoDataFrame.from_features(overpass.as_geojson(r, 'linestring'))\n",
    "# gdf.plot()"
   ]
  },
  {
   "cell_type": "code",
   "execution_count": null,
   "metadata": {},
   "outputs": [],
   "source": [
    "# path = tz42.qk_path + \"/{}\".format(qk)\n",
    "# print(path)\n",
    "# tifs = [f for f in os.listdir(path) if f[-4:] == '.tif']\n",
    "# print(tifs)\n",
    "\n",
    "# catid = \"1040010058D6EF00\"\n",
    "# impath = path + \"/\" + catid + \"-visual.tif\"\n",
    "# print(impath)\n",
    "\n",
    "\n",
    "# #f, axs = plt.subplots(4, 4, figsize=(16,16), subplot_kw={'xticks': [], 'yticks': []})\n",
    "# with rasterio.open(impath) as src:\n",
    "#     plt.figure(figsize=(10, 10))\n",
    "#     arr = src.read(out_shape=(3, int(src.height / 16), int(src.width / 16)))[..., 32:1056, 32:1056]\n",
    "#     rashow(arr)\n"
   ]
  },
  {
   "cell_type": "code",
   "execution_count": null,
   "metadata": {},
   "outputs": [],
   "source": [
    "# try:\n",
    "#     del m\n",
    "# except:\n",
    "#     pass\n",
    "\n",
    "# center = (tz42.centroid.y, tz42.centroid.x)\n",
    "# m = Map(center=center, zoom=8)\n",
    "# geo_json = GeoJSON(data=fc, style = {'color': 'red', 'opacity':1, 'weight':1.9, 'fillOpacity':0.1})\n",
    "# # marker = Marker(location=center, draggable=False)\n",
    "# # m.add_layer(marker);\n",
    "# m.add_layer(geo_json);\n",
    "\n",
    "# html = HTML('''Hover over a tile''')\n",
    "# html.layout.margin = '0px 20px 20px 20px'\n",
    "# control = WidgetControl(widget=html, position='topright')\n",
    "# m.add_control(control)\n",
    "\n",
    "# def update_html(feature, **kwargs):\n",
    "#     html.value = '''\n",
    "#     <h3><b>{}</b><h3>\n",
    "#     <h4>Tile Index: ({}, {})</h4>\n",
    "#     '''.format(feature['properties']['tile_id'],\n",
    "#                feature['properties']['ix'],\n",
    "#                feature['properties']['iy'])\n",
    "    \n",
    "# geo_json.on_hover(update_html)\n",
    "\n",
    "# sc = Sidecar(title=\"whatever\")\n",
    "# with sc:\n",
    "#     display(m)"
   ]
  },
  {
   "cell_type": "code",
   "execution_count": null,
   "metadata": {},
   "outputs": [],
   "source": [
    "# /*\n",
    "# This has been generated by the overpass-turbo wizard.\n",
    "# The original search was:\n",
    "# “historic=* or leisure=*”\n",
    "# */\n",
    "# [out:json][timeout:25];\n",
    "# // gather results\n",
    "# (\n",
    "#   // query part for: “historic=*”\n",
    "#   node[\"historic\"]({{bbox}});\n",
    "#   way[\"historic\"]({{bbox}});\n",
    "#   relation[\"historic\"]({{bbox}});\n",
    "#   // query part for: “leisure=*”\n",
    "#   node[\"leisure\"]({{bbox}});\n",
    "#   way[\"leisure\"]({{bbox}});\n",
    "#   relation[\"leisure\"]({{bbox}});\n",
    "# );\n",
    "# // print results\n",
    "# out body;\n",
    "# >;\n",
    "# out skel qt;\n",
    "\n",
    "# /*\n",
    "# This has been generated by the overpass-turbo wizard.\n",
    "# The original search was:\n",
    "# “historic=* or leisure=*”\n",
    "# */\n",
    "# [out:json][timeout:25];\n",
    "# // gather results\n",
    "# (\n",
    "#   // query part for: “historic=*”\n",
    "#   node[\"historic\"](-34.480382504358694,-58.64295959472656,-34.38467103941415,-58.518333435058594);\n",
    "#   way[\"historic\"](-34.480382504358694,-58.64295959472656,-34.38467103941415,-58.518333435058594);\n",
    "#   relation[\"historic\"](-34.480382504358694,-58.64295959472656,-34.38467103941415,-58.518333435058594);\n",
    "#   // query part for: “leisure=*”\n",
    "#   node[\"leisure\"](-34.480382504358694,-58.64295959472656,-34.38467103941415,-58.518333435058594);\n",
    "#   way[\"leisure\"](-34.480382504358694,-58.64295959472656,-34.38467103941415,-58.518333435058594);\n",
    "#   relation[\"leisure\"](-34.480382504358694,-58.64295959472656,-34.38467103941415,-58.518333435058594);\n",
    "# );\n",
    "# // print results\n",
    "# out body;\n",
    "# >;\n",
    "# out skel qt;\n",
    "\n",
    "#[out:json][timeout:25];(node[\"historic\"]({south},{west},{north},{east});way[\"historic\"]({south},{west},{north},{east});relation[\"historic\"]({south},{west},{north},{east});node[\"leisure\"]({south},{west},{north},{east});way[\"leisure\"]({south},{west},{north},{east});relation[\"leisure\"]({south},{west},{north},{east}););out body;>;out skel qt;\n",
    " \n",
    "    \n",
    "# {{OverpassTurboExample|loc=-34.43247;-58.58065;13|query=\n",
    "# /*\n",
    "# This has been generated by the overpass-turbo wizard.\n",
    "# The original search was:\n",
    "# “historic=* or leisure=*”\n",
    "# */\n",
    "# [out:json][timeout:25];\n",
    "# // gather results\n",
    "# (\n",
    "#   // query part for: “historic=*”\n",
    "#   node[\"historic\"]({{((}}bbox{{))}});\n",
    "#   way[\"historic\"]({{((}}bbox{{))}});\n",
    "#   relation[\"historic\"]({{((}}bbox{{))}});\n",
    "#   // query part for: “leisure=*”\n",
    "#   node[\"leisure\"]({{((}}bbox{{))}});\n",
    "#   way[\"leisure\"]({{((}}bbox{{))}});\n",
    "#   relation[\"leisure\"]({{((}}bbox{{))}});\n",
    "# );\n",
    "# // print results\n",
    "# out body;\n",
    "# >;\n",
    "# out skel qt;\n",
    "# }}\n",
    "\n"
   ]
  },
  {
   "cell_type": "code",
   "execution_count": null,
   "metadata": {},
   "outputs": [],
   "source": [
    "# %matplotlib inline\n",
    "\n",
    "# import os\n",
    "# import sys\n",
    "# import typing\n",
    "# import json\n",
    "# import math\n",
    "# import datetime\n",
    "# from functools import partial, partialmethod\n",
    "# import typing_extensions as typing\n",
    "# #import typing\n",
    "# import types\n",
    "# import dataclasses\n",
    "# from pathlib import Path\n",
    "# import matplotlib.pyplot as plt\n",
    "\n",
    "# from IPython.display import display\n",
    "# from sidecar import Sidecar\n",
    "# from ipyleaflet import (\n",
    "#     Map,\n",
    "#     basemaps,\n",
    "#     basemap_to_tiles,\n",
    "#     ImageOverlay,\n",
    "#     Polyline, Rectangle, Polygon,\n",
    "#     LayerGroup, GeoJSON, Marker,\n",
    "#     WidgetControl, ScaleControl, LayersControl\n",
    "# )\n",
    "# from ipywidgets import HTML\n",
    "\n",
    "\n",
    "# import boto3\n",
    "# import botocore\n",
    "# import s3fs\n",
    "\n",
    "# import numpy as np\n",
    "# import networkx as nx\n",
    "# import rasterio\n",
    "# from rasterio.plot import show as rashow\n",
    "# import shapely.ops as ops\n",
    "# import shapely.geometry as geom\n",
    "# from pyproj import CRS, Proj, Transformer\n",
    "\n",
    "# import tiletanic as tt\n",
    "# import canvas\n",
    "\n",
    "# from osmxtract import overpass, location\n",
    "# import geopandas as gpd\n",
    "\n",
    "# import requests"
   ]
  },
  {
   "cell_type": "code",
   "execution_count": null,
   "metadata": {},
   "outputs": [],
   "source": [
    "# orm = {\n",
    "#     \"url\": 'http://{s}.tiles.openrailwaymap.org/standard/{z}/{x}/{y}.png',\n",
    "#     \"min_zoom\": 2,\n",
    "#     \"max_zoom\": 19,\n",
    "#     \"attribution\": '<a href=\"https://www.openstreetmap.org/copyright\">© OpenStreetMap contributors</a>, Style: <a href=\"http://creativecommons.org/licenses/by-sa/2.0/\">CC-BY-SA 2.0</a> <a href=\"http://www.openrailwaymap.org/\">OpenRailwayMap</a> and OpenStreetMap',\n",
    "#     \"name\": \"OpenStreetMap.OpenRailwayMap\"\n",
    "# }\n",
    "\n",
    "# _basemaps = basemaps.copy()\n",
    "# basemaps.OpenStreetMap['OpenRailwayMap'] = orm"
   ]
  },
  {
   "cell_type": "code",
   "execution_count": 4,
   "metadata": {},
   "outputs": [],
   "source": []
  },
  {
   "cell_type": "code",
   "execution_count": 5,
   "metadata": {},
   "outputs": [],
   "source": [
    "# Bounds are always (lonmin, latmin, lonmax, latmax) from shit\n",
    "# eg (xmin, ymin, xmax, ymax)\n",
    "# WORLD_CRS = CRS.from_epsg(4326)\n",
    "# MAP_CRS = CRS.from_epsg(3857)\n",
    "\n",
    "# class GeoTileTransformer(object):\n",
    "#     def __init__(self, tile, to_crs):\n",
    "#         self.tile = tile\n",
    "#         self.to_crs = to_crs\n",
    "        \n",
    "#     def __enter__(self):\n",
    "#         self.tile.set_crs(self.to_crs)\n",
    "#         return self.tile\n",
    "    \n",
    "#     def __exit__(self, *args):\n",
    "#         self.tile.reset_crs()\n",
    "        \n",
    "        \n",
    "        \n",
    "# class WGS84Transformer(GeoTileTransformer):\n",
    "#     def __init__(self, tile):\n",
    "#         GeoTileTransformer.__init__(self, tile, WORLD_CRS)\n",
    "\n",
    "        \n",
    "\n",
    "# class GeoTile(object):\n",
    "#     dtype = [('ix', int), ('iy', int), ('zoom', int)]\n",
    "    \n",
    "#     def __init__(self, xi, yi, zoom, tiler=None):\n",
    "#         self.xi = xi\n",
    "#         self.yi = yi\n",
    "#         self.zoom = zoom\n",
    "#         self._tiler = tiler\n",
    "#         self._qk = None\n",
    "#         if self.quadkey[0] in ('0', '1'):\n",
    "#             self.__crs__ = tiler._crs_n\n",
    "#             self._tr = tiler._tr_n\n",
    "#         else:\n",
    "#             self.__crs__ = tiler._crs_s\n",
    "#             self._tr = tiler._tr_s\n",
    "#         self._crs = self.__crs__\n",
    "#         self.__gi__ = geom.box(*self.utm_bounds).__geo_interface__\n",
    "#         self._gi = self.__gi__\n",
    "        \n",
    "#     @property\n",
    "#     def utm_zone(self):\n",
    "#         return self._tiler.utm_zone\n",
    "        \n",
    "#     def parent(self):\n",
    "#         return self._tiler.tile_parent(self.asTile)\n",
    "    \n",
    "#     def children(self):\n",
    "#         return self._tiler.tile_children(self.asTile)\n",
    "    \n",
    "#     @property\n",
    "#     def quadkey(self):\n",
    "#         if self._qk is None:\n",
    "#             self._qk = self._tiler.quadkey_from_tile(self.asTile)\n",
    "#         return self._qk\n",
    "    \n",
    "#     @property\n",
    "#     def asTile(self):\n",
    "#         return tt.base.Tile(self.xi, self.yi, self.zoom)\n",
    "    \n",
    "#     @property\n",
    "#     def crs(self):\n",
    "#         return self._crs\n",
    "    \n",
    "#     def set_crs(self, to_crs):\n",
    "#         ccrs = self._crs\n",
    "#         self._crs = to_crs\n",
    "#         if ccrs == to_crs:\n",
    "#             return\n",
    "#         if ccrs == self.__crs__ and to_crs == WORLD_CRS:\n",
    "#             tr = self._tr\n",
    "#         else:\n",
    "#             tr = Transform.from_crs(ccrs, to_crs, always_xy=True).transform\n",
    "#         self._gi = ops.transform(tr, geom.shape(self)).__geo_interface__\n",
    "        \n",
    "#     toWGS84 = partialmethod(set_crs, WORLD_CRS)\n",
    "    \n",
    "#     def reset_crs(self):\n",
    "#         self._crs = self.__crs__\n",
    "#         self._gi = self.__gi__\n",
    "    \n",
    "#     @property\n",
    "#     def width_meters(self):\n",
    "#         return self._tiler.tile_size_at_zoom(self.zoom)\n",
    "    \n",
    "#     @property\n",
    "#     def length_meters(self):\n",
    "#         return self.width_meters\n",
    "    \n",
    "#     @property\n",
    "#     def utm_bounds(self):\n",
    "#         return self._tiler._tiler.bbox(self.asTile)\n",
    "    \n",
    "#     @property\n",
    "#     def bounds(self):\n",
    "#         return geom.shape(self).bounds\n",
    "    \n",
    "#     @property\n",
    "#     def __geo_interface__(self):\n",
    "#         return self._gi\n",
    "    \n",
    "#     @classmethod\n",
    "#     def _from_tile(cls, tile, tiler=None):\n",
    "#         return cls(tile.x, tile.y, tile.z, tiler=tiler)\n",
    "    \n",
    "#     @property\n",
    "#     def asShape(self):\n",
    "#         return geom.asShape(self)\n",
    "    \n",
    "#     @property\n",
    "#     def z(self):\n",
    "#         return self.zoom\n",
    "    \n",
    "#     def __iter__(self):\n",
    "#         return iter([self.xi, self.yi, self.zoom])\n",
    "    \n",
    "    \n",
    "\n",
    "\n",
    "\n",
    "# class ProjectedUTMTiling(object):\n",
    "            \n",
    "#     def __init__(self, zone=None, tiler=None):\n",
    "#         self.utm_zone = zone\n",
    "#         self._tiler = tiler\n",
    "#         self._tiling_zoom_level = tiler.zoom\n",
    "#         self._tiling_physical_length = tiler.tile_size\n",
    "#         self._tf = partial(GeoTile._from_tile, tiler=self)\n",
    "#         self._crs_n = CRS.from_epsg(f'326{self.utm_zone:02d}')\n",
    "#         self._crs_s = CRS.from_epsg(f'327{self.utm_zone:02d}')\n",
    "#         self._tr_n = Transformer.from_crs(self._crs_n, WORLD_CRS, always_xy=True).transform\n",
    "#         self._tr_s = Transformer.from_crs(self._crs_s, WORLD_CRS, always_xy=True).transform\n",
    "        \n",
    "#     def tile_from_xy(self, xcoord, ycoord, zoom=12):\n",
    "#         tile = self._tiler.tile(xcoord, ycoord, zoom)\n",
    "#         return self._tf(tile)\n",
    "    \n",
    "#     def tile_from_quadkey(self, qk):\n",
    "#         tile = self._tiler.quadkey_to_tile(qk)\n",
    "#         return self._tf(tile)\n",
    "    \n",
    "#     def quadkey_from_tile(self, *tile):\n",
    "#         return self._tiler.quadkey(*tile)\n",
    "    \n",
    "#     def tile_parent(self, *tile):\n",
    "#         tile = self._tiler.parent(*tile)\n",
    "#         return self._tf(tile)\n",
    "    \n",
    "#     def tile_children(self, *tile):\n",
    "#         children = self._tiler.children(*tile)\n",
    "#         return [self._tf(tile) for tile in children]\n",
    "    \n",
    "#     def tile_length_at_zoom(self, zoom_level):\n",
    "#         return self._tiling_physical_length / 2**(zoom_level - self._tiling_zoom_level)\n",
    "    \n",
    "#     def zoom_from_tile_dim(self, dimension):\n",
    "#         pass\n",
    "\n",
    "#     def __getattr__(self, atr):\n",
    "#         return getattr(self._tiler, atr)\n",
    "    \n",
    "#     def dims_from_zoom(self, zoom, init_dim=16384, init_zoom=12):\n",
    "#         return init_dim / 2**(zoom - init_zoom)\n",
    "    \n",
    "\n",
    "    \n",
    "# # Accessor api\n",
    "\n",
    "        \n",
    "# class CanvasClient(object):\n",
    "#     def __init__(self, bucket, local=True, s3conn=None):\n",
    "#         self.bucket = bucket\n",
    "#         self.local = local\n",
    "#         if not local:\n",
    "#             if s3conn is None:\n",
    "#                 s3conn = s3fs.S3FileSystem(anon=False)\n",
    "#         self.s3conn = s3conn\n",
    "            \n",
    "#     def list_dir(self, *args, **kwargs):\n",
    "#         if self.local:\n",
    "#             return os.listdir(*args, **kwargs)\n",
    "#         return self.s3conn.ls(*args, **kwargs)\n",
    "    \n",
    "\n",
    "    \n",
    "    \n",
    "# def itrreduce(fn, iterable, initializer=None):\n",
    "#     it = iter(iterable)\n",
    "#     if initializer is None:\n",
    "#         value = next(it)\n",
    "#     else:\n",
    "#         value = initializer\n",
    "#     for element in it:\n",
    "#         value = fn([value, element])\n",
    "#     return value\n",
    "\n",
    "\n",
    "# def to_gjson(tile):\n",
    "#     geodata = geom.mapping(t)\n",
    "#     gj = {\"type\": \"Feature\",\n",
    "#          \"properties\": {\"tile_id\": \"+\".join([str(t.utm_zone), t.quadkey]),\n",
    "#                         \"ix\": t.xi,\n",
    "#                         \"iy\": t.yi,\n",
    "#                         \"zoom\": t.zoom},\n",
    "#          \"geometry\": geodata}\n",
    "#     return gj\n",
    "\n",
    "    \n",
    "# class CanvasZone(CanvasClient):\n",
    "    \n",
    "#     def __init__(self, utm_zone, tiler=None, *args, **kwargs):\n",
    "#         super().__init__(*args, **kwargs)\n",
    "#         self.utm_zone = utm_zone\n",
    "#         self.tiler = ProjectedUTMTiling(zone=utm_zone, tiler=tiler)\n",
    "#         self.cvg = nx.Graph(store=self.bucket, utm_zone=utm_zone)\n",
    "#         self.qk_path = os.path.join(self.bucket, str(utm_zone))\n",
    "#         self._tile_quadkeys_fetched = False\n",
    "#         self._tile_cogs_fetched = False\n",
    "#         self._qksample = self.tile_quadkeys[0]\n",
    "#         self._gtm = None\n",
    "#         self.__gi__ = None\n",
    "        \n",
    "#     @property\n",
    "#     def tile_quadkeys(self):\n",
    "#         if not self._tile_quadkeys_fetched:\n",
    "#             qk_paths = self.list_dir(self.qk_path)\n",
    "#             for qkp in qk_paths:\n",
    "#                 qk = Path(qkp).parts[-1]\n",
    "#                 self.cvg.add_node(qk, obj=\"quadkey\")\n",
    "#             self._tile_quadkeys_fetched = True\n",
    "#         return [n for n in self.cvg.nodes() if self.cvg.nodes[n]['obj'] == \"quadkey\"]\n",
    "        \n",
    "#     @property\n",
    "#     def tile_cogs(self):\n",
    "#         if not self._tile_cogs_fetched:\n",
    "#             for qk in self.tile_quadkeys:\n",
    "#                 cog_path = os.path.join(self.qk_path, qk)\n",
    "#                 cog_files = self.list_dir(cog_path)\n",
    "#                 for fp in cog_files:\n",
    "#                     catid = Path(fp).stem.split(\"-\")[0]\n",
    "#                     self.cvg.add_node(catid, obj=\"catalog_id\")\n",
    "#                     self.cvg.add_edge(catid, qk)\n",
    "#             self._tile_cogs_fetched = True\n",
    "#         return [n for n in self.cvg.nodes() if self.cvg.nodes[n]['obj'] == 'catalog_id']\n",
    "    \n",
    "#     @property\n",
    "#     def nqks(self):\n",
    "#         return len(self.tile_quadkeys)\n",
    "    \n",
    "#     @property\n",
    "#     def ncatids(self):\n",
    "#         return len(self.tile_cogs)\n",
    "    \n",
    "#     @property\n",
    "#     def area_coverage(self, units='m'):\n",
    "#         return str((5_000 * 5_000) * self.nqks) + ' ' + units + '^2'\n",
    "    \n",
    "#     def __getitem__(self, quadkey):\n",
    "#         if quadkey not in self.tile_quadkeys:\n",
    "#             raise KeyError\n",
    "#         return self.tiler.tile_from_quadkey(quadkey)\n",
    "    \n",
    "#     def __setitem__(self, item):\n",
    "#         raise NotImeplementedError\n",
    "        \n",
    "#     def __iter__(self):\n",
    "#         tiles = np.array([self.tiler._tiler.quadkey_to_tile(qk) \n",
    "#                           for qk in self.tile_quadkeys], dtype=GeoTile.dtype)\n",
    "#         for tile in np.sort(tiles, order=['iy', 'ix']):\n",
    "#             yield self.tiler._tf(tt.base.Tile(*tile))\n",
    "            \n",
    "#     def iter_geoms(self):\n",
    "#         for tile in iter(self):\n",
    "#             with WGS84Transformer(tile) as geotile:\n",
    "#                 yield geotile.asShape\n",
    "            \n",
    "#     @property\n",
    "#     def __geo_interface__(self):\n",
    "#         if self.__gi__ is None:\n",
    "#             self.__gi__ = itrreduce(ops.unary_union, \n",
    "#                                     self.iter_geoms()).__geo_interface__\n",
    "#         return self.__gi__\n",
    "    \n",
    "#     @property\n",
    "#     def asShape(self):\n",
    "#         return geom.asShape(self)\n",
    "    \n",
    "#     @property\n",
    "#     def centroid(self):\n",
    "#         return self.asShape.centroid\n",
    "        \n",
    "    \n",
    "\n",
    "# class CanvasCollection(CanvasClient):\n",
    "#     def __init__(self, aoi=None, tilescheme=tt.tileschemes.WNUTM5kmTiling, *args, **kwargs):\n",
    "#         super().__init__(*args, **kwargs)\n",
    "#         self.aoi = aoi\n",
    "#         self.tiler = tilescheme()\n",
    "#         self._zlut = dict()\n",
    "#         self._zone_paths_fetched = False\n",
    "        \n",
    "#     def canvas_zones(self):\n",
    "#         if not self._zone_paths_fetched:\n",
    "#             self._zone_paths = self.list_dir(self.bucket)\n",
    "#             self._zone_paths_fetched = True\n",
    "#             self.zones = sorted([int(Path(zp).parts[-1]) for zp in self._zone_paths if Path(zp).parts[-1] not in ('models', 'output')])\n",
    "#         return self.zones\n",
    "    \n",
    "#     def zone(self, zone, *args, **kwargs):\n",
    "#         if zone not in self.canvas_zones():\n",
    "#             raise OSError(\"Zone {} not in path\".format(zone))\n",
    "#         if zone in self._zlut: return self._zlut[zone]\n",
    "#         self._zlut[zone] = CanvasZone(zone, bucket=self.bucket, local=self.local, s3conn=self.s3conn, tiler=self.tiler, **kwargs)\n",
    "#         return self._zlut[zone]  \n",
    "    \n",
    "#     def descriptions(self):\n",
    "#         for z in self.canvas_zones():\n",
    "#             print(z)\n",
    "#             print(\"Total data area covered: \" + self.zone(z).area_coverage)\n",
    "#             print(\"Total number of quadkey zones: \" + str(self.zone(z).nqks))\n",
    "#             print(\"Total number of catalog ids tiled: \" + str(self.zone(z).ncatids))\n",
    "#             print(\"\\n\")\n",
    "        \n",
    "        \n",
    "    \n",
    "\n",
    "    \n",
    "    "
   ]
  },
  {
   "cell_type": "code",
   "execution_count": 18,
   "metadata": {},
   "outputs": [],
   "source": [
    "containing_tiles = tt.tilecover._containing_tiles\n",
    "cover_polygonal = tt.tilecover._cover_polygonal\n",
    "cover_geometry = tt.tilecover.cover_geometry"
   ]
  },
  {
   "cell_type": "code",
   "execution_count": 26,
   "metadata": {},
   "outputs": [],
   "source": [
    "def make_opql_query(aoi,\n",
    "                    elements=[\"node\", \"way\", \"relation\"],\n",
    "                    osm_tags=\"railway\",\n",
    "                    tag_vals=\"rail\",\n",
    "                    fmt=\"json\",\n",
    "                    timeout=25,\n",
    "                    overpass_url=\"http://overpass-api.de/api/interpreter\",\n",
    "                    dry_run=False,\n",
    "                    ):\n",
    "    \n",
    "    qsmeta = f'[out:{fmt}][timeout:{timeout}];'\n",
    "    if isinstance(osm_tags, str):\n",
    "        osm_tags = [osm_tags]*len(elements)\n",
    "    if isinstance(tag_vals, str):\n",
    "        tag_vals = [tag_vals]*len(elements)\n",
    "    qsbody = '('\n",
    "    for el, tag, val in zip(elements, osm_tags, tag_vals):\n",
    "        qsbody += f'{el}[\"{tag}\"=\"{val}\"]{aoi};'.replace(' ', '')\n",
    "    qsbody += ');'\n",
    "    qsout = 'out;>;out skel qt;'\n",
    "    qs = qsmeta + qsbody + qsout   \n",
    "    if dry_run:\n",
    "        return qs\n",
    "    \n",
    "    resp = requests.get(overpass_url, params={'data': qs})\n",
    "    resp.raise_for_status()\n",
    "    return resp.json()"
   ]
  },
  {
   "cell_type": "code",
   "execution_count": 1,
   "metadata": {},
   "outputs": [],
   "source": [
    "a = [\"hey\", \"hi\", \"hello\"]"
   ]
  },
  {
   "cell_type": "code",
   "execution_count": 2,
   "metadata": {},
   "outputs": [
    {
     "ename": "AttributeError",
     "evalue": "'list' object has no attribute 'loc'",
     "output_type": "error",
     "traceback": [
      "\u001b[0;31m---------------------------------------------------------------------------\u001b[0m",
      "\u001b[0;31mAttributeError\u001b[0m                            Traceback (most recent call last)",
      "\u001b[0;32m<ipython-input-2-dc3be21228e2>\u001b[0m in \u001b[0;36m<module>\u001b[0;34m\u001b[0m\n\u001b[0;32m----> 1\u001b[0;31m \u001b[0ma\u001b[0m\u001b[0;34m.\u001b[0m\u001b[0mloc\u001b[0m\u001b[0;34m(\u001b[0m\u001b[0;34m\"hey\"\u001b[0m\u001b[0;34m)\u001b[0m\u001b[0;34m\u001b[0m\u001b[0;34m\u001b[0m\u001b[0m\n\u001b[0m",
      "\u001b[0;31mAttributeError\u001b[0m: 'list' object has no attribute 'loc'"
     ]
    }
   ],
   "source": [
    "a.loc(\"hey\")"
   ]
  },
  {
   "cell_type": "code",
   "execution_count": 4,
   "metadata": {},
   "outputs": [
    {
     "data": {
      "text/plain": [
       "1"
      ]
     },
     "execution_count": 4,
     "metadata": {},
     "output_type": "execute_result"
    }
   ],
   "source": [
    "a.index(\"hi\")"
   ]
  },
  {
   "cell_type": "code",
   "execution_count": null,
   "metadata": {},
   "outputs": [],
   "source": []
  }
 ],
 "metadata": {
  "kernelspec": {
   "display_name": "Python 3",
   "language": "python",
   "name": "python3"
  },
  "language_info": {
   "codemirror_mode": {
    "name": "ipython",
    "version": 3
   },
   "file_extension": ".py",
   "mimetype": "text/x-python",
   "name": "python",
   "nbconvert_exporter": "python",
   "pygments_lexer": "ipython3",
   "version": "3.7.3"
  }
 },
 "nbformat": 4,
 "nbformat_minor": 4
}
